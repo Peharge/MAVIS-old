{
 "cells": [
  {
   "cell_type": "code",
   "execution_count": 8,
   "id": "a079a744-ff77-4934-b011-24d6312fb55d",
   "metadata": {},
   "outputs": [],
   "source": [
    "import openmdao.api as om\n",
    "\n",
    "\n",
    "class ActuatorDisc(om.ExplicitComponent):\n",
    "    \"\"\"Simple wind turbine model based on actuator disc theory\"\"\"\n",
    "\n",
    "    def setup(self):\n",
    "\n",
    "        # Inputs\n",
    "        self.add_input('a', 0.5, desc=\"Induced Velocity Factor\")\n",
    "        self.add_input('Area', 10.0, units=\"m**2\", desc=\"Rotor disc area\")\n",
    "        self.add_input('rho', 1.225, units=\"kg/m**3\", desc=\"air density\")\n",
    "        self.add_input('Vu', 10.0, units=\"m/s\", desc=\"Freestream air velocity, upstream of rotor\")\n",
    "\n",
    "        # Outputs\n",
    "        self.add_output('Vr', 0.0, units=\"m/s\",\n",
    "                        desc=\"Air velocity at rotor exit plane\")\n",
    "        self.add_output('Vd', 0.0, units=\"m/s\",\n",
    "                        desc=\"Slipstream air velocity, downstream of rotor\")\n",
    "        self.add_output('Ct', 0.0, desc=\"Thrust Coefficient\")\n",
    "        self.add_output('thrust', 0.0, units=\"N\",\n",
    "                        desc=\"Thrust produced by the rotor\")\n",
    "        self.add_output('Cp', 0.0, desc=\"Power Coefficient\")\n",
    "        self.add_output('power', 0.0, units=\"W\", desc=\"Power produced by the rotor\")\n",
    "\n",
    "        # Every output depends on `a`\n",
    "        self.declare_partials(of='*', wrt='a', method='cs')\n",
    "\n",
    "        # Other dependencies\n",
    "        self.declare_partials(of='Vr', wrt=['Vu'], method='cs')\n",
    "        self.declare_partials(of=['thrust', 'power'], wrt=['Area', 'rho', 'Vu'], method='cs')\n",
    "\n",
    "    def compute(self, inputs, outputs):\n",
    "        \"\"\" Considering the entire rotor as a single disc that extracts\n",
    "        velocity uniformly from the incoming flow and converts it to\n",
    "        power.\"\"\"\n",
    "\n",
    "        a = inputs['a']\n",
    "        Vu = inputs['Vu']\n",
    "\n",
    "        qA = .5 * inputs['rho'] * inputs['Area'] * Vu ** 2\n",
    "\n",
    "        outputs['Vd'] = Vd = Vu * (1 - 2 * a)\n",
    "        outputs['Vr'] = .5 * (Vu + Vd)\n",
    "\n",
    "        outputs['Ct'] = Ct = 4 * a * (1 - a)\n",
    "        outputs['thrust'] = Ct * qA\n",
    "\n",
    "        outputs['Cp'] = Cp = Ct * (1 - a)\n",
    "        outputs['power'] = Cp * qA * Vu"
   ]
  },
  {
   "cell_type": "code",
   "execution_count": 2,
   "id": "dcc18d8c-aa2d-4a4a-9b27-8cb021526ee8",
   "metadata": {},
   "outputs": [],
   "source": [
    "prob = om.Problem()\n",
    "prob.model.add_subsystem('a_disk', ActuatorDisc(),\n",
    "                         promotes_inputs=['a', 'Area', 'rho', 'Vu']);"
   ]
  },
  {
   "cell_type": "code",
   "execution_count": null,
   "id": "72b24e17-ddb3-4021-8f0e-25817c731025",
   "metadata": {},
   "outputs": [],
   "source": [
    "prob.driver = om.ScipyOptimizeDriver()\n",
    "prob.driver.options['optimizer'] = 'SLSQP'\n",
    "\n",
    "prob.model.add_design_var('a', lower=0., upper=1.)\n",
    "\n",
    "# negative one so we maximize the objective\n",
    "prob.model.add_objective('a_disk.Cp', scaler=-1)"
   ]
  },
  {
   "cell_type": "code",
   "execution_count": 3,
   "id": "c0cfc8e6-cb40-468b-a5c5-db852c54e020",
   "metadata": {},
   "outputs": [],
   "source": [
    "prob.setup()\n",
    "\n",
    "prob.set_val('a', .5)\n",
    "prob.set_val('Area', 10.0, units='m**2')\n",
    "prob.set_val('rho', 1.225, units='kg/m**3')\n",
    "prob.set_val('Vu', 10.0, units='m/s')"
   ]
  },
  {
   "cell_type": "code",
   "execution_count": 4,
   "id": "05eb5cf8-3117-4a64-a458-5ca03503f888",
   "metadata": {},
   "outputs": [
    {
     "name": "stderr",
     "output_type": "stream",
     "text": [
      "C:\\Users\\julian\\PycharmProjects\\MAVIS\\.env\\Lib\\site-packages\\openmdao\\visualization\\opt_report\\opt_report.py:119: DriverWarning:The optimizer report is not applicable for Driver type 'Driver', which does not support optimization\n"
     ]
    }
   ],
   "source": [
    "result = prob.run_driver()"
   ]
  },
  {
   "cell_type": "code",
   "execution_count": 5,
   "id": "73f03aaf-6e99-4e9c-bf00-9a1566ced58b",
   "metadata": {},
   "outputs": [
    {
     "name": "stdout",
     "output_type": "stream",
     "text": [
      "4 Input(s) in 'model'\n",
      "\n",
      "varname  val      units    prom_name\n",
      "-------  -------  -------  ---------\n",
      "a_disk\n",
      "  a      [0.5]    None     a        \n",
      "  Area   [10.]    m**2     Area     \n",
      "  rho    [1.225]  kg/m**3  rho      \n",
      "  Vu     [10.]    m/s      Vu       \n",
      "\n",
      "\n"
     ]
    },
    {
     "data": {
      "text/plain": [
       "[('a_disk.a', {'units': None, 'prom_name': 'a', 'val': array([0.5])}),\n",
       " ('a_disk.Area', {'units': 'm**2', 'prom_name': 'Area', 'val': array([10.])}),\n",
       " ('a_disk.rho',\n",
       "  {'units': 'kg/m**3', 'prom_name': 'rho', 'val': array([1.225])}),\n",
       " ('a_disk.Vu', {'units': 'm/s', 'prom_name': 'Vu', 'val': array([10.])})]"
      ]
     },
     "execution_count": 5,
     "metadata": {},
     "output_type": "execute_result"
    }
   ],
   "source": [
    "prob.model.list_inputs(val=True, units=True)"
   ]
  },
  {
   "cell_type": "code",
   "execution_count": 6,
   "id": "d3fcd3e6-05dd-4627-9198-c8188254fcfe",
   "metadata": {},
   "outputs": [
    {
     "name": "stdout",
     "output_type": "stream",
     "text": [
      "6 Explicit Output(s) in 'model'\n",
      "\n",
      "varname   val       units  prom_name    \n",
      "--------  --------  -----  -------------\n",
      "a_disk\n",
      "  Vr      [5.]      m/s    a_disk.Vr    \n",
      "  Vd      [0.]      m/s    a_disk.Vd    \n",
      "  Ct      [1.]      None   a_disk.Ct    \n",
      "  thrust  [612.5]   N      a_disk.thrust\n",
      "  Cp      [0.5]     None   a_disk.Cp    \n",
      "  power   [3062.5]  W      a_disk.power \n",
      "\n",
      "\n",
      "0 Implicit Output(s) in 'model'\n",
      "\n",
      "\n"
     ]
    },
    {
     "data": {
      "text/plain": [
       "[('a_disk.Vr', {'units': 'm/s', 'val': array([5.]), 'prom_name': 'a_disk.Vr'}),\n",
       " ('a_disk.Vd', {'units': 'm/s', 'val': array([0.]), 'prom_name': 'a_disk.Vd'}),\n",
       " ('a_disk.Ct', {'units': None, 'val': array([1.]), 'prom_name': 'a_disk.Ct'}),\n",
       " ('a_disk.thrust',\n",
       "  {'units': 'N', 'val': array([612.5]), 'prom_name': 'a_disk.thrust'}),\n",
       " ('a_disk.Cp', {'units': None, 'val': array([0.5]), 'prom_name': 'a_disk.Cp'}),\n",
       " ('a_disk.power',\n",
       "  {'units': 'W', 'val': array([3062.5]), 'prom_name': 'a_disk.power'})]"
      ]
     },
     "execution_count": 6,
     "metadata": {},
     "output_type": "execute_result"
    }
   ],
   "source": [
    "prob.model.list_outputs(val=True, units=True)"
   ]
  },
  {
   "cell_type": "code",
   "execution_count": 7,
   "id": "9bf499fc-80dc-45e8-9282-0592f78b449e",
   "metadata": {},
   "outputs": [
    {
     "name": "stdout",
     "output_type": "stream",
     "text": [
      "[0.5]\n",
      "[0.5]\n"
     ]
    }
   ],
   "source": [
    "# Verify the correct outputs\n",
    "\n",
    "# minimum value\n",
    "print(prob.get_val('a_disk.Cp'))\n",
    "print(prob.get_val('a'))"
   ]
  },
  {
   "cell_type": "code",
   "execution_count": null,
   "id": "c6415e5a-ed3e-4f1a-9f34-fc414912bf4a",
   "metadata": {},
   "outputs": [],
   "source": []
  }
 ],
 "metadata": {
  "kernelspec": {
   "display_name": "Python 3 (ipykernel)",
   "language": "python",
   "name": "python3"
  },
  "language_info": {
   "codemirror_mode": {
    "name": "ipython",
    "version": 3
   },
   "file_extension": ".py",
   "mimetype": "text/x-python",
   "name": "python",
   "nbconvert_exporter": "python",
   "pygments_lexer": "ipython3",
   "version": "3.12.8"
  }
 },
 "nbformat": 4,
 "nbformat_minor": 5
}
